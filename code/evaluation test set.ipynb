{
 "cells": [
  {
   "cell_type": "markdown",
   "id": "bf7c8fa0-bd74-45e0-a8b7-c85dc69e13af",
   "metadata": {},
   "source": [
    "# Evaluation Test Set\n",
    "This Notebook can be used to run the evaluation.py on the combined_test_data.txt and is provided by TM Group 1."
   ]
  },
  {
   "cell_type": "code",
   "execution_count": null,
   "id": "8b8762bf-be9f-4e50-8ce9-2a6f610079da",
   "metadata": {},
   "outputs": [],
   "source": [
    "import evaluation"
   ]
  },
  {
   "cell_type": "code",
   "execution_count": null,
   "id": "4fe71bf7-9826-4e30-87ad-902d8951043e",
   "metadata": {},
   "outputs": [],
   "source": [
    "#load gold the gold annotations and assign it a variable \n",
    "filepath_gold = '/data/combined_test_data.txt'\n",
    "gold_labels = evaluation.extract_annotations(filepath_gold, \"Gold\")"
   ]
  },
  {
   "cell_type": "markdown",
   "id": "6714d00e-ad51-4bdd-9d15-05b3f2025f5a",
   "metadata": {},
   "source": [
    "## SVM"
   ]
  },
  {
   "cell_type": "code",
   "execution_count": null,
   "id": "c8b5c2f9-4eee-4650-a649-86b91502e9f1",
   "metadata": {},
   "outputs": [],
   "source": [
    "filepath_SVM = '/results/test set/results_SVM_all_f_emb.conll'\n",
    "SVM_labels = evaluation.extract_annotations(filepath_SVM, \"Prediction\")"
   ]
  },
  {
   "cell_type": "markdown",
   "id": "976d73de-66c7-44fc-8f01-4122a09d7ac6",
   "metadata": {},
   "source": [
    "### Confusion Matrix"
   ]
  },
  {
   "cell_type": "code",
   "execution_count": null,
   "id": "37866c92-d586-4d3f-888a-4a5db5e4aace",
   "metadata": {},
   "outputs": [],
   "source": [
    "conf_mat_SVM = evaluation.conf_matrix(gold_labels, SVM_labels)"
   ]
  },
  {
   "cell_type": "code",
   "execution_count": null,
   "id": "e32d1e6c-a062-4aee-b749-ebee33dc4536",
   "metadata": {},
   "outputs": [],
   "source": [
    "evaluation.heatmap_confusion_matrix(conf_mat_SVM)"
   ]
  },
  {
   "cell_type": "markdown",
   "id": "b13707a7-7eeb-44ab-ad1c-d8fe7fa9e63c",
   "metadata": {},
   "source": [
    "### Evaluation"
   ]
  },
  {
   "cell_type": "code",
   "execution_count": null,
   "id": "82d32cb6-8a1c-43aa-b2ac-6b0dc712ae67",
   "metadata": {},
   "outputs": [],
   "source": [
    "evaluation.get_evaluation(gold_labels, SVM_labels)"
   ]
  },
  {
   "cell_type": "markdown",
   "id": "63455875-8582-48d2-90b8-8034384cbde9",
   "metadata": {},
   "source": [
    "## SVM baseline"
   ]
  },
  {
   "cell_type": "code",
   "execution_count": null,
   "id": "ff844567-06c9-4ec2-81a7-3996956236ca",
   "metadata": {},
   "outputs": [],
   "source": [
    "filepath_SVM_baseline = '/results/test set/combined_test_data.SVMbaseline.conll'\n",
    "SVM_baseline_labels = evaluation.extract_annotations(filepath_SVM_baseline, \"Prediction\")"
   ]
  },
  {
   "cell_type": "markdown",
   "id": "b8d94456-f0cb-44ba-be7f-4d7e1c2fe497",
   "metadata": {},
   "source": [
    "### Confusion Matrix"
   ]
  },
  {
   "cell_type": "code",
   "execution_count": null,
   "id": "f9e61723-787a-431e-a3e1-6e057b837b24",
   "metadata": {},
   "outputs": [],
   "source": [
    "conf_mat_SVM_baseline = evaluation.conf_matrix(gold_labels, SVM_baseline_labels)"
   ]
  },
  {
   "cell_type": "code",
   "execution_count": null,
   "id": "86e72504-6a8c-4c52-ad94-75fc1409fed1",
   "metadata": {},
   "outputs": [],
   "source": [
    "evaluation.heatmap_confusion_matrix(conf_mat_SVM_baseline)"
   ]
  },
  {
   "cell_type": "markdown",
   "id": "3975833e-7f6c-4865-b287-9787a9bf2b30",
   "metadata": {},
   "source": [
    "### Evaluation"
   ]
  },
  {
   "cell_type": "code",
   "execution_count": null,
   "id": "fbbd4a8f-6c07-423b-b57e-b69869050987",
   "metadata": {},
   "outputs": [],
   "source": [
    "evaluation.get_evaluation(gold_labels, SVM_baseline_labels)"
   ]
  },
  {
   "cell_type": "markdown",
   "id": "68892b9c-3b4f-4b5e-8933-6342574dc3d8",
   "metadata": {},
   "source": [
    "## CRF"
   ]
  },
  {
   "cell_type": "code",
   "execution_count": null,
   "id": "183ce45b-0a4f-4321-a9fc-4109800346d7",
   "metadata": {},
   "outputs": [],
   "source": [
    "filepath_CRF = '/results/test set/results_crf.conll'\n",
    "CRF_labels = evaluation.extract_annotations(filepath_CRF, \"Prediction\")"
   ]
  },
  {
   "cell_type": "markdown",
   "id": "712739c3-8abb-46af-b658-5f30862878a9",
   "metadata": {},
   "source": [
    "### Confusion Matrix"
   ]
  },
  {
   "cell_type": "code",
   "execution_count": null,
   "id": "d7ac6a5e-9577-4aeb-8cf9-4ba93f368a31",
   "metadata": {},
   "outputs": [],
   "source": [
    "conf_mat_CRF = evaluation.conf_matrix(gold_labels, CRF_labels)"
   ]
  },
  {
   "cell_type": "code",
   "execution_count": null,
   "id": "0fd5d746-19ae-4df3-8ab0-31100a465326",
   "metadata": {},
   "outputs": [],
   "source": [
    "evaluation.heatmap_confusion_matrix(conf_mat_CRF)"
   ]
  },
  {
   "cell_type": "markdown",
   "id": "5354563a-67f2-4107-a2db-8baa7e6d7665",
   "metadata": {},
   "source": [
    "### Evaluation"
   ]
  },
  {
   "cell_type": "code",
   "execution_count": null,
   "id": "90c53343-3429-4fd7-81a6-3073f033323c",
   "metadata": {},
   "outputs": [],
   "source": [
    "evaluation.get_evaluation(gold_labels, CRF_labels)"
   ]
  },
  {
   "cell_type": "markdown",
   "id": "201fa850-c7eb-47b4-b48c-e8610a2d6fb3",
   "metadata": {},
   "source": [
    "## CRF baseline"
   ]
  },
  {
   "cell_type": "code",
   "execution_count": null,
   "id": "3fadd6a1-7c5f-44a2-a77c-06b66794decc",
   "metadata": {},
   "outputs": [],
   "source": [
    "filepath_CRF_baseline = '/results/test set/results_crf_baseline_on_test.conll'\n",
    "CRF_labels_baseline = evaluation.extract_annotations(filepath_CRF_baseline, \"Prediction\")"
   ]
  },
  {
   "cell_type": "markdown",
   "id": "992efa9c-c155-4a8c-a0c6-b7e521ada300",
   "metadata": {},
   "source": [
    "### Confusion Matrix"
   ]
  },
  {
   "cell_type": "code",
   "execution_count": null,
   "id": "a1cdbd48-1dcb-4dd7-bb28-1f4f8a4d777a",
   "metadata": {},
   "outputs": [],
   "source": [
    "conf_mat_CRF_baseline = evaluation.conf_matrix(gold_labels, CRF_labels_baseline)"
   ]
  },
  {
   "cell_type": "code",
   "execution_count": null,
   "id": "0ced49eb-07f4-4449-8e9b-47b6ee65e652",
   "metadata": {},
   "outputs": [],
   "source": [
    "evaluation.heatmap_confusion_matrix(conf_mat_CRF_baseline)"
   ]
  },
  {
   "cell_type": "markdown",
   "id": "cc7b4dc7-3c12-4ba5-a5a4-4be4d98dfec1",
   "metadata": {},
   "source": [
    "### Evaluation"
   ]
  },
  {
   "cell_type": "code",
   "execution_count": null,
   "id": "ce2771a8-7f69-418e-aede-cd0cd271dcac",
   "metadata": {},
   "outputs": [],
   "source": [
    "evaluation.get_evaluation(gold_labels, CRF_labels_baseline)"
   ]
  }
 ],
 "metadata": {
  "kernelspec": {
   "display_name": "Python 3 (ipykernel)",
   "language": "python",
   "name": "python3"
  },
  "language_info": {
   "codemirror_mode": {
    "name": "ipython",
    "version": 3
   },
   "file_extension": ".py",
   "mimetype": "text/x-python",
   "name": "python",
   "nbconvert_exporter": "python",
   "pygments_lexer": "ipython3",
   "version": "3.9.7"
  }
 },
 "nbformat": 4,
 "nbformat_minor": 5
}
