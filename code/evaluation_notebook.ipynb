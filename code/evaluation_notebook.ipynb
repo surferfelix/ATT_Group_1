{
 "cells": [
  {
   "cell_type": "markdown",
   "id": "6532db88-749d-4a5d-b848-3837c8346f59",
   "metadata": {},
   "source": [
    "# Evaluation\n",
    "This Notebook can be used to run the evaluation.py and is provided by TM Group 1. "
   ]
  },
  {
   "cell_type": "code",
   "execution_count": null,
   "id": "98550d6d-9a40-48cf-8738-5ca24b356c27",
   "metadata": {},
   "outputs": [],
   "source": [
    "import evaluation"
   ]
  },
  {
   "cell_type": "code",
   "execution_count": null,
   "id": "89204830-7e54-4655-b94e-f7c88c05cf40",
   "metadata": {},
   "outputs": [],
   "source": [
    "#load gold the gold annotations and assign it a variable \n",
    "filepath_gold = '/data/SEM-2012-SharedTask-CD-SCO-dev-simple.v2.txt'\n",
    "gold_labels = evaluation.extract_annotations(filepath_gold, \"Gold\")"
   ]
  },
  {
   "cell_type": "markdown",
   "id": "188e2964-f45a-4899-96d0-7c5f9a6df79e",
   "metadata": {},
   "source": [
    "# SVC"
   ]
  },
  {
   "cell_type": "markdown",
   "id": "decb0e16-ef27-4d71-89b6-5c1b4a5d23f5",
   "metadata": {},
   "source": [
    "## Token - Baseline"
   ]
  },
  {
   "cell_type": "code",
   "execution_count": null,
   "id": "558168e4-0567-47ef-b292-ed25ad9ee27e",
   "metadata": {},
   "outputs": [],
   "source": [
    "filepath_SVM_token = '/data/results.SVMtoken.conll'\n",
    "SVM_labels_token = evaluation.extract_annotations(filepath_SVM_token, \"Prediction\")"
   ]
  },
  {
   "cell_type": "markdown",
   "id": "808d6965-48df-409a-89f5-1ae1f466dae0",
   "metadata": {},
   "source": [
    "### Confusion Matrix"
   ]
  },
  {
   "cell_type": "code",
   "execution_count": null,
   "id": "8fbccb54-45a7-442e-b4c7-124ecc76f856",
   "metadata": {},
   "outputs": [],
   "source": [
    "conf_mat_SVM_token = evaluation.conf_matrix(gold_labels, SVM_labels_token)"
   ]
  },
  {
   "cell_type": "code",
   "execution_count": null,
   "id": "dd06f9c9-db5a-43a8-9e8d-35b92a3f43b6",
   "metadata": {},
   "outputs": [],
   "source": [
    "evaluation.heatmap_confusion_matrix(conf_mat_SVM_token)"
   ]
  },
  {
   "cell_type": "markdown",
   "id": "d262cefa-bd13-4ccd-8b5d-67736c02d16e",
   "metadata": {},
   "source": [
    "### Evaluation"
   ]
  },
  {
   "cell_type": "code",
   "execution_count": null,
   "id": "06c966ea-571d-469f-83dc-0e50d904796c",
   "metadata": {},
   "outputs": [],
   "source": [
    "evaluation.get_evaluation(gold_labels, SVM_labels_token)"
   ]
  },
  {
   "cell_type": "markdown",
   "id": "817b8a38-ab2e-4333-83bb-532dc6823c90",
   "metadata": {},
   "source": [
    "## Token + Lemma"
   ]
  },
  {
   "cell_type": "code",
   "execution_count": null,
   "id": "417f195d-dfcb-4384-ac85-93a342064dae",
   "metadata": {},
   "outputs": [],
   "source": [
    "filepath_SVM_token_lemma = '/data/results.SVMtoken_lemma.conll'\n",
    "SVM_labels_token_lemma = evaluation.extract_annotations(filepath_SVM_token_lemma, \"Prediction\")"
   ]
  },
  {
   "cell_type": "markdown",
   "id": "07196b33-7202-46ae-8156-dbd8b97f7beb",
   "metadata": {},
   "source": [
    "### Confusion Matrix"
   ]
  },
  {
   "cell_type": "code",
   "execution_count": null,
   "id": "6ed71659-8147-4171-a73e-6bc052f6f96b",
   "metadata": {},
   "outputs": [],
   "source": [
    "conf_mat_SVM_token_lemma = evaluation.conf_matrix(gold_labels, SVM_labels_token_lemma)"
   ]
  },
  {
   "cell_type": "code",
   "execution_count": null,
   "id": "6866326b-58b3-4bb2-9f7d-f78c86f3eb32",
   "metadata": {},
   "outputs": [],
   "source": [
    "evaluation.heatmap_confusion_matrix(conf_mat_SVM_token_lemma)"
   ]
  },
  {
   "cell_type": "markdown",
   "id": "83d709e1-93cb-4db0-8557-9c0bef77a1c0",
   "metadata": {},
   "source": [
    "### Evaluation "
   ]
  },
  {
   "cell_type": "code",
   "execution_count": null,
   "id": "b6236032-2c1e-4bee-b2ca-5904c2499065",
   "metadata": {},
   "outputs": [],
   "source": [
    "evaluation.get_evaluation(gold_labels, SVM_labels_token_lemma)"
   ]
  },
  {
   "cell_type": "markdown",
   "id": "8ae390d1-17b4-45ef-a65c-db72da120938",
   "metadata": {},
   "source": [
    "## Token + Lemma + POS"
   ]
  },
  {
   "cell_type": "code",
   "execution_count": null,
   "id": "4b652088-052d-4b05-8ed5-69ba16a4ffd2",
   "metadata": {},
   "outputs": [],
   "source": [
    "filepath_SVM_token_lemma_pos = '/data/results.SVMtoken_lemma_pos.conll'\n",
    "SVM_labels_token_lemma_pos = evaluation.extract_annotations(filepath_SVM_token_lemma_pos, \"Prediction\")"
   ]
  },
  {
   "cell_type": "markdown",
   "id": "dc0a876b-c6b3-4cf9-9170-5c65d6b467b0",
   "metadata": {},
   "source": [
    "### Confusion Matrix"
   ]
  },
  {
   "cell_type": "code",
   "execution_count": null,
   "id": "06badd1b-4c1c-4c66-a155-ce72172e83cb",
   "metadata": {},
   "outputs": [],
   "source": [
    "conf_mat_SVM_token_lemma_pos = evaluation.conf_matrix(gold_labels, SVM_labels_token_lemma_pos)"
   ]
  },
  {
   "cell_type": "code",
   "execution_count": null,
   "id": "ce62b101-5480-4d17-8f71-e6988d4143de",
   "metadata": {},
   "outputs": [],
   "source": [
    "evaluation.heatmap_confusion_matrix(conf_mat_SVM_token_lemma_pos)"
   ]
  },
  {
   "cell_type": "markdown",
   "id": "e99909c7-80e3-4bf7-a231-35a05ba049c8",
   "metadata": {},
   "source": [
    "### Evaluation"
   ]
  },
  {
   "cell_type": "code",
   "execution_count": null,
   "id": "723ec8d5-89f5-4b66-bc41-69fcbf0148e2",
   "metadata": {},
   "outputs": [],
   "source": [
    "evaluation.get_evaluation(gold_labels, SVM_labels_token_lemma_pos)"
   ]
  },
  {
   "cell_type": "markdown",
   "id": "e2f74610-9657-469c-be83-d4a683c17e4d",
   "metadata": {},
   "source": [
    "## Token + Lemma + POS + Negation List"
   ]
  },
  {
   "cell_type": "code",
   "execution_count": null,
   "id": "d2f0c856-8f0c-4571-a6c3-8f5df034df0e",
   "metadata": {},
   "outputs": [],
   "source": [
    "filepath_SVM_token_lemma_pos_neg = '/data/results.SVMtoken_lemma_pos_neg.conll'\n",
    "SVM_labels_token_lemma_pos_neg = evaluation.extract_annotations(filepath_SVM_token_lemma_pos_neg, \"Prediction\")"
   ]
  },
  {
   "cell_type": "markdown",
   "id": "a31e61db-5d5e-4c0c-b74f-9250cc155f82",
   "metadata": {},
   "source": [
    "### Confusion Matrix"
   ]
  },
  {
   "cell_type": "code",
   "execution_count": null,
   "id": "22c2365e-a6d9-41d3-860a-5ea8975b7252",
   "metadata": {},
   "outputs": [],
   "source": [
    "conf_mat_SVM_token_lemma_pos_neg = evaluation.conf_matrix(gold_labels, SVM_labels_token_lemma_pos_neg)"
   ]
  },
  {
   "cell_type": "code",
   "execution_count": null,
   "id": "92c33d6f-2be0-4937-a0ab-bff96b6bb1f4",
   "metadata": {},
   "outputs": [],
   "source": [
    "evaluation.heatmap_confusion_matrix(conf_mat_SVM_token_lemma_pos_neg)"
   ]
  },
  {
   "cell_type": "markdown",
   "id": "c8fe640d-1cb2-455e-8e25-d0a0d116a791",
   "metadata": {},
   "source": [
    "### Evaluation"
   ]
  },
  {
   "cell_type": "code",
   "execution_count": null,
   "id": "236f492d-4b52-4611-9be9-4d48f192b58b",
   "metadata": {},
   "outputs": [],
   "source": [
    "evaluation.get_evaluation(gold_labels, SVM_labels_token_lemma_pos_neg)"
   ]
  },
  {
   "cell_type": "markdown",
   "id": "4927e4db-9ba0-422d-9f92-85b91b44d58a",
   "metadata": {},
   "source": [
    "## Token + Lemma + POS + Negation List + Negation Affix"
   ]
  },
  {
   "cell_type": "code",
   "execution_count": null,
   "id": "95ea22db-7d67-4c31-88d2-0a17fd3bf248",
   "metadata": {},
   "outputs": [],
   "source": [
    "filepath_SVM_token_lemma_pos_neg_aff = '/data/results.SVMtoken_lemma_pos_neg_aff.conll'\n",
    "SVM_labels_token_lemma_pos_neg_aff = evaluation.extract_annotations(filepath_SVM_token_lemma_pos_neg_aff, \"Prediction\")"
   ]
  },
  {
   "cell_type": "markdown",
   "id": "c2cbb965-a9cd-43da-a8b4-158df2a6f42b",
   "metadata": {},
   "source": [
    "### Confusion Matrix"
   ]
  },
  {
   "cell_type": "code",
   "execution_count": null,
   "id": "68c240e8-3dff-42a4-9e69-b4474e3e877c",
   "metadata": {},
   "outputs": [],
   "source": [
    "conf_mat_SVM_token_lemma_pos_neg_aff = evaluation.conf_matrix(gold_labels, SVM_labels_token_lemma_pos_neg_aff)"
   ]
  },
  {
   "cell_type": "code",
   "execution_count": null,
   "id": "100fed93-903f-4f07-b605-7417eeebb4b8",
   "metadata": {},
   "outputs": [],
   "source": [
    "evaluation.heatmap_confusion_matrix(conf_mat_SVM_token_lemma_pos_neg_aff)"
   ]
  },
  {
   "cell_type": "markdown",
   "id": "2e9170a3-c1ac-4eeb-a560-b642f9e922e7",
   "metadata": {},
   "source": [
    "### Evaluation"
   ]
  },
  {
   "cell_type": "code",
   "execution_count": null,
   "id": "01448a49-4377-4a3c-8e64-38e6d72efbba",
   "metadata": {},
   "outputs": [],
   "source": [
    "evaluation.get_evaluation(gold_labels, SVM_labels_token_lemma_pos_neg_aff)"
   ]
  },
  {
   "cell_type": "markdown",
   "id": "2b5c0f8d-377e-4b7c-b35f-922bbbb7f17e",
   "metadata": {},
   "source": [
    "## Token + Lemma + POS + Negation List + Negation Affix + Previous Token"
   ]
  },
  {
   "cell_type": "code",
   "execution_count": null,
   "id": "f22495a8-4fa8-4f78-8adc-26f0b9849074",
   "metadata": {},
   "outputs": [],
   "source": [
    "filepath_SVM_token_lemma_pos_neg_aff_prev = '/data/results.SVMtoken_lemma_pos_neg_aff_prev.conll'\n",
    "SVM_labels_token_lemma_pos_neg_aff_prev = evaluation.extract_annotations(filepath_SVM_token_lemma_pos_neg_aff_prev, \"Prediction\")"
   ]
  },
  {
   "cell_type": "markdown",
   "id": "ebe202df-65bf-432c-ace1-d0877770d11d",
   "metadata": {},
   "source": [
    "### Confusion Matrix"
   ]
  },
  {
   "cell_type": "code",
   "execution_count": null,
   "id": "97e46f47-3c0d-4e2a-a837-5055d726d833",
   "metadata": {},
   "outputs": [],
   "source": [
    "conf_mat_SVM_token_lemma_pos_neg_aff_prev = evaluation.conf_matrix(gold_labels, SVM_labels_token_lemma_pos_neg_aff_prev)"
   ]
  },
  {
   "cell_type": "code",
   "execution_count": null,
   "id": "351c1bc6-7476-464d-ab78-ce4e4acacb62",
   "metadata": {},
   "outputs": [],
   "source": [
    "evaluation.heatmap_confusion_matrix(conf_mat_SVM_token_lemma_pos_neg_aff_prev)"
   ]
  },
  {
   "cell_type": "markdown",
   "id": "afdc59c7-43f9-47d4-b8d8-a38b93c310b4",
   "metadata": {},
   "source": [
    "### Evaluation "
   ]
  },
  {
   "cell_type": "code",
   "execution_count": null,
   "id": "e597b1df-248c-4aa3-b5f2-a4d2fd7dca00",
   "metadata": {},
   "outputs": [],
   "source": [
    "evaluation.get_evaluation(gold_labels, SVM_labels_token_lemma_pos_neg_aff_prev)"
   ]
  },
  {
   "cell_type": "markdown",
   "id": "44c6df79-73bb-4304-9afd-e27a022436ae",
   "metadata": {},
   "source": [
    "## Token + Lemma + POS + Negation List + Negation Affix + Previous Token + Next Token"
   ]
  },
  {
   "cell_type": "code",
   "execution_count": null,
   "id": "7dd7c0c0-830f-4971-80d2-5469aaec3fcf",
   "metadata": {},
   "outputs": [],
   "source": [
    "filepath_SVM_token_lemma_pos_neg_aff_prev_next = '/data/results.SVMtoken_lemma_pos_neg_aff_prev_next.conll'\n",
    "SVM_labels_token_lemma_pos_neg_aff_prev_next = evaluation.extract_annotations(filepath_SVM_token_lemma_pos_neg_aff_prev_next, \"Prediction\")"
   ]
  },
  {
   "cell_type": "markdown",
   "id": "2a4eae45-0d09-4f35-8c67-d563e6cbe1da",
   "metadata": {},
   "source": [
    "### Confusion Matrix"
   ]
  },
  {
   "cell_type": "code",
   "execution_count": null,
   "id": "8b1e816e-eda0-4457-a044-0a67e302b33a",
   "metadata": {},
   "outputs": [],
   "source": [
    "conf_mat_SVM_token_lemma_pos_neg_aff_prev_next = evaluation.conf_matrix(gold_labels, SVM_labels_token_lemma_pos_neg_aff_prev_next)"
   ]
  },
  {
   "cell_type": "code",
   "execution_count": null,
   "id": "eddb405d-9616-4f6d-9a48-f7df7b0505a3",
   "metadata": {},
   "outputs": [],
   "source": [
    "evaluation.heatmap_confusion_matrix(conf_mat_SVM_token_lemma_pos_neg_aff_prev_next)"
   ]
  },
  {
   "cell_type": "markdown",
   "id": "3dfeece5-00be-4a6f-8c24-6310526fc1a4",
   "metadata": {},
   "source": [
    "### Evaluation"
   ]
  },
  {
   "cell_type": "code",
   "execution_count": null,
   "id": "f7ffacd0-8d5a-474a-ab9a-ed314677c243",
   "metadata": {},
   "outputs": [],
   "source": [
    "evaluation.get_evaluation(gold_labels, SVM_labels_token_lemma_pos_neg_aff_prev_next)"
   ]
  },
  {
   "cell_type": "markdown",
   "id": "d3d94edb-ba70-4eb2-b7da-ea95e0c333df",
   "metadata": {},
   "source": [
    "## CRF without Next Token"
   ]
  },
  {
   "cell_type": "code",
   "execution_count": null,
   "id": "b9cc21f7-80ce-4eec-a8be-04f1bb421d1b",
   "metadata": {},
   "outputs": [],
   "source": [
    "filepath_crf = '/data/results_crf_without_next_token.conll'\n",
    "crf_labels = evaluation.extract_annotations(filepath_crf, \"Prediction\")"
   ]
  },
  {
   "cell_type": "markdown",
   "id": "7288d580-a989-4587-890e-a14f0c1d4520",
   "metadata": {},
   "source": [
    "### Confusion Matrix"
   ]
  },
  {
   "cell_type": "code",
   "execution_count": null,
   "id": "5a171d61-c0c5-4020-90eb-9e128c740831",
   "metadata": {},
   "outputs": [],
   "source": [
    "conf_mat_crf = evaluation.conf_matrix(gold_labels, crf_labels)"
   ]
  },
  {
   "cell_type": "code",
   "execution_count": null,
   "id": "5bdd9ebc-d2ed-42b7-9fa3-a432d7ce1483",
   "metadata": {},
   "outputs": [],
   "source": [
    "evaluation.heatmap_confusion_matrix(conf_mat_crf)"
   ]
  },
  {
   "cell_type": "markdown",
   "id": "3d368be8-67b7-4b06-9b89-f3cbcf85ebde",
   "metadata": {},
   "source": [
    "### Evaluation"
   ]
  },
  {
   "cell_type": "code",
   "execution_count": null,
   "id": "daeac0f1-26f1-4d37-ab08-6c7112201e32",
   "metadata": {},
   "outputs": [],
   "source": [
    "evaluation.get_evaluation(gold_labels, crf_labels)"
   ]
  },
  {
   "cell_type": "markdown",
   "id": "7f5fb2b9-29dd-4625-bf29-023cecf773ff",
   "metadata": {},
   "source": [
    "## CRF with Next Token"
   ]
  },
  {
   "cell_type": "code",
   "execution_count": null,
   "id": "1bd52676-7e88-44fb-9438-2a0337ec59bd",
   "metadata": {},
   "outputs": [],
   "source": [
    "filepath_crf_next = '/data/results_crf_with_next_token.conll'\n",
    "crf_labels_next = evaluation.extract_annotations(filepath_crf_next, \"Prediction\")"
   ]
  },
  {
   "cell_type": "markdown",
   "id": "f225903b-7a9e-41c4-9f9a-06eea3f24374",
   "metadata": {},
   "source": [
    "### Confusion Matrix"
   ]
  },
  {
   "cell_type": "code",
   "execution_count": null,
   "id": "961227d5-eb32-4439-b2cf-cd0012069b29",
   "metadata": {},
   "outputs": [],
   "source": [
    "conf_mat_crf_next = evaluation.conf_matrix(gold_labels, crf_labels_next)"
   ]
  },
  {
   "cell_type": "code",
   "execution_count": null,
   "id": "56ced7cd-5d73-4ad8-b861-6a3c2d26bd19",
   "metadata": {},
   "outputs": [],
   "source": [
    "evaluation.heatmap_confusion_matrix(conf_mat_crf_next)"
   ]
  },
  {
   "cell_type": "code",
   "execution_count": null,
   "id": "c71b054a-7cb2-42a1-a9a1-d2aa9b79987b",
   "metadata": {},
   "outputs": [],
   "source": [
    "### Evaluation"
   ]
  },
  {
   "cell_type": "code",
   "execution_count": null,
   "id": "511056e7-9a16-44be-89da-47f4b43c47df",
   "metadata": {},
   "outputs": [],
   "source": [
    "evaluation.get_evaluation(gold_labels, crf_labels_next)"
   ]
  },
  {
   "cell_type": "markdown",
   "id": "4672c2c3-b3a3-42f7-bcb9-9a8377878add",
   "metadata": {},
   "source": [
    "## CRF with just Token - Baseline"
   ]
  },
  {
   "cell_type": "code",
   "execution_count": null,
   "id": "6574303a-f0c6-4d56-8b8d-9a7d84ba1149",
   "metadata": {},
   "outputs": [],
   "source": [
    "filepath_crf_token = '/data/results_crf_token.conll'\n",
    "crf_labels_token = evaluation.extract_annotations(filepath_crf_token, \"Prediction\")"
   ]
  },
  {
   "cell_type": "markdown",
   "id": "5410907b-ed0d-4ff0-8967-5a3a23ba9e1e",
   "metadata": {},
   "source": [
    "### Confusion Matrix"
   ]
  },
  {
   "cell_type": "code",
   "execution_count": null,
   "id": "08305632-738f-4494-b4d1-75ea3380bfd3",
   "metadata": {},
   "outputs": [],
   "source": [
    "conf_mat_crf_token = evaluation.conf_matrix(gold_labels, crf_labels_token)"
   ]
  },
  {
   "cell_type": "code",
   "execution_count": null,
   "id": "f8ad8545-7d69-4ac7-8b85-0037a716cf9d",
   "metadata": {},
   "outputs": [],
   "source": [
    "evaluation.heatmap_confusion_matrix(conf_mat_crf_token)"
   ]
  },
  {
   "cell_type": "markdown",
   "id": "bec833a7-2607-4922-aed5-02b3212671ff",
   "metadata": {},
   "source": [
    "### Evaluation"
   ]
  },
  {
   "cell_type": "code",
   "execution_count": null,
   "id": "557c15b7-a6db-44eb-8077-c5316843abac",
   "metadata": {},
   "outputs": [],
   "source": [
    "evaluation.get_evaluation(gold_labels, crf_labels_token)"
   ]
  },
  {
   "cell_type": "markdown",
   "id": "48b8b0ea-aca1-4273-9207-dc8bd89c7b92",
   "metadata": {},
   "source": [
    "## CRF "
   ]
  },
  {
   "cell_type": "code",
   "execution_count": null,
   "id": "f198069d-0a9f-4c89-9487-80ed46b032fa",
   "metadata": {},
   "outputs": [],
   "source": [
    "filepath_crf_all = '/data/results_crf.conll'\n",
    "crf_labels_all = evaluation.extract_annotations(filepath_crf_all, \"Prediction\")"
   ]
  },
  {
   "cell_type": "markdown",
   "id": "36c5de0b-14a6-45d8-ac89-5340dc7f32d9",
   "metadata": {},
   "source": [
    "### Confusion Matrix"
   ]
  },
  {
   "cell_type": "code",
   "execution_count": null,
   "id": "a48eac8b-dcfb-4f72-a8c0-3a9af77e27ff",
   "metadata": {},
   "outputs": [],
   "source": [
    "conf_mat_crf_all = evaluation.conf_matrix(gold_labels, crf_labels_all)"
   ]
  },
  {
   "cell_type": "code",
   "execution_count": null,
   "id": "6645ac50-223e-4795-b7f0-370970babdf7",
   "metadata": {},
   "outputs": [],
   "source": [
    "evaluation.heatmap_confusion_matrix(conf_mat_crf_all)"
   ]
  },
  {
   "cell_type": "markdown",
   "id": "85c2cdfa-eadc-4d34-b176-9cb287adaafe",
   "metadata": {},
   "source": [
    "### Evaluation"
   ]
  },
  {
   "cell_type": "code",
   "execution_count": null,
   "id": "597fe0a2-f46b-4312-9d63-61988eb90852",
   "metadata": {},
   "outputs": [],
   "source": [
    "evaluation.get_evaluation(gold_labels, crf_labels_all)"
   ]
  },
  {
   "cell_type": "markdown",
   "id": "ff379631-4b84-4d64-ab97-43f97b597986",
   "metadata": {},
   "source": [
    "## Embeddings - linear SVM"
   ]
  },
  {
   "cell_type": "code",
   "execution_count": null,
   "id": "27afd07a-34a2-47ff-9039-a6eafa0b8be0",
   "metadata": {},
   "outputs": [],
   "source": [
    "filepath_embeddings = '/data/SEM-2012-SharedTask-CD-SCO-dev-simple.SVMemb.conll'\n",
    "embeddings_labels = evaluation.extract_annotations(filepath_embeddings, \"Prediction\")"
   ]
  },
  {
   "cell_type": "markdown",
   "id": "818879fd-fecc-4cf8-a8e9-7afb15a6e800",
   "metadata": {},
   "source": [
    "### Confusion Matrix"
   ]
  },
  {
   "cell_type": "code",
   "execution_count": null,
   "id": "0ca25065-f6bf-4885-95f1-ebefe463b69d",
   "metadata": {},
   "outputs": [],
   "source": [
    "conf_mat_embeddings = evaluation.conf_matrix(gold_labels, embeddings_labels)"
   ]
  },
  {
   "cell_type": "code",
   "execution_count": null,
   "id": "98079bc4-1c8e-4f1a-a9b5-1a2999160748",
   "metadata": {},
   "outputs": [],
   "source": [
    "evaluation.heatmap_confusion_matrix(conf_mat_embeddings)"
   ]
  },
  {
   "cell_type": "markdown",
   "id": "136355e2-f2b5-49a5-a06d-ab51e59d93f0",
   "metadata": {},
   "source": [
    "### Evaluation"
   ]
  },
  {
   "cell_type": "code",
   "execution_count": null,
   "id": "14dde9d0-f62b-49ba-8c0f-facd6747a1ad",
   "metadata": {},
   "outputs": [],
   "source": [
    "evaluation.get_evaluation(gold_labels, embeddings_labels)"
   ]
  },
  {
   "cell_type": "markdown",
   "id": "68bc11d3-2b36-460a-9666-a4b6d94d4e67",
   "metadata": {},
   "source": [
    "## Embeddings - SVC"
   ]
  },
  {
   "cell_type": "code",
   "execution_count": null,
   "id": "1d46dbf6-6682-4569-a659-da9c2c912f6f",
   "metadata": {},
   "outputs": [],
   "source": [
    "filepath_embeddings_svc = '/data/SEM-2012-SharedTask-CD-SCO-dev-simple.SVM_all_f_emb.conll'\n",
    "embeddings_labels_svc = evaluation.extract_annotations(filepath_embeddings_svc, \"Prediction\")"
   ]
  },
  {
   "cell_type": "markdown",
   "id": "3a0469ed-2cf5-4f7b-b226-5815b669079a",
   "metadata": {},
   "source": [
    "### Confusion Matrix"
   ]
  },
  {
   "cell_type": "code",
   "execution_count": null,
   "id": "9c499ce7-ca45-4df2-b143-0d4c8ca476b2",
   "metadata": {},
   "outputs": [],
   "source": [
    "conf_mat_embeddings_svc = evaluation.conf_matrix(gold_labels, embeddings_labels_svc)"
   ]
  },
  {
   "cell_type": "code",
   "execution_count": null,
   "id": "dbd53e2d-0fc2-4458-b81a-0ceadc63655e",
   "metadata": {},
   "outputs": [],
   "source": [
    "evaluation.heatmap_confusion_matrix(conf_mat_embeddings_svc)"
   ]
  },
  {
   "cell_type": "markdown",
   "id": "d786b7fd-50a9-40fc-8167-ff993669f24a",
   "metadata": {},
   "source": [
    "### Evaluation"
   ]
  },
  {
   "cell_type": "code",
   "execution_count": null,
   "id": "33fad223-ba6b-4884-9ea0-8a9972e6ecda",
   "metadata": {},
   "outputs": [],
   "source": [
    "evaluation.get_evaluation(gold_labels, embeddings_labels_svc)"
   ]
  }
 ],
 "metadata": {
  "kernelspec": {
   "display_name": "Python 3 (ipykernel)",
   "language": "python",
   "name": "python3"
  },
  "language_info": {
   "codemirror_mode": {
    "name": "ipython",
    "version": 3
   },
   "file_extension": ".py",
   "mimetype": "text/x-python",
   "name": "python",
   "nbconvert_exporter": "python",
   "pygments_lexer": "ipython3",
   "version": "3.9.7"
  }
 },
 "nbformat": 4,
 "nbformat_minor": 5
}
